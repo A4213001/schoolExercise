{
 "cells": [
  {
   "cell_type": "code",
   "execution_count": 1,
   "metadata": {
    "scrolled": true
   },
   "outputs": [
    {
     "name": "stderr",
     "output_type": "stream",
     "text": [
      "C:\\Users\\first\\Anaconda3\\lib\\site-packages\\h5py\\__init__.py:36: FutureWarning: Conversion of the second argument of issubdtype from `float` to `np.floating` is deprecated. In future, it will be treated as `np.float64 == np.dtype(float).type`.\n",
      "  from ._conv import register_converters as _register_converters\n",
      "Using TensorFlow backend.\n"
     ]
    }
   ],
   "source": [
    "\"\"\"\n",
    "Trains a simple convnet on the MNIST dataset\n",
    "Using CNN with maxpooling.\n",
    "\n",
    "\"\"\"\n",
    "import keras\n",
    "from keras.datasets import mnist\n",
    "from keras.models import Sequential, Model\n",
    "from keras.layers import Dense, Flatten, Input,Dropout\n",
    "from keras.layers import Conv2D, MaxPooling2D\n",
    "from keras import backend as K"
   ]
  },
  {
   "cell_type": "code",
   "execution_count": 2,
   "metadata": {},
   "outputs": [],
   "source": [
    "# hyper-parameters\n",
    "batch_size = 128\n",
    "num_classes = 10\n",
    "epochs = 20\n",
    "# input image dimensions\n",
    "img_rows, img_cols = 28, 28"
   ]
  },
  {
   "cell_type": "code",
   "execution_count": 3,
   "metadata": {},
   "outputs": [
    {
     "name": "stdout",
     "output_type": "stream",
     "text": [
      "x_train shape: (60000, 28, 28)\n",
      "y_train shape: (60000,)\n",
      "x_test shape: (10000, 28, 28)\n",
      "y_test shape: (10000,)\n"
     ]
    }
   ],
   "source": [
    "# the data, split between train and test sets\n",
    "(x_train, y_train), (x_test, y_test) = mnist.load_data()\n",
    "print('x_train shape:', x_train.shape)\n",
    "print('y_train shape:', y_train.shape)\n",
    "print('x_test shape:', x_test.shape)\n",
    "print('y_test shape:', y_test.shape)"
   ]
  },
  {
   "cell_type": "code",
   "execution_count": 4,
   "metadata": {},
   "outputs": [
    {
     "name": "stdout",
     "output_type": "stream",
     "text": [
      "x_train shape: (60000, 28, 28, 1)\n",
      "y_train shape: (60000,)\n",
      "x_test shape: (10000, 28, 28, 1)\n",
      "y_test shape: (10000,)\n"
     ]
    }
   ],
   "source": [
    "# check banked image data format\n",
    "if K.image_data_format() == 'channels_first':\n",
    "    x_train = x_train.reshape(x_train.shape[0], 1, img_rows, img_cols)\n",
    "    x_test = x_test.reshape(x_test.shape[0], 1, img_rows, img_cols)\n",
    "    input_shape = (1, img_rows, img_cols)\n",
    "else:\n",
    "    x_train = x_train.reshape(x_train.shape[0], img_rows, img_cols, 1)\n",
    "    x_test = x_test.reshape(x_test.shape[0], img_rows, img_cols, 1)\n",
    "    input_shape = (img_rows, img_cols, 1)\n",
    "print('x_train shape:', x_train.shape)\n",
    "print('y_train shape:', y_train.shape)\n",
    "print('x_test shape:', x_test.shape)\n",
    "print('y_test shape:', y_test.shape)"
   ]
  },
  {
   "cell_type": "code",
   "execution_count": 5,
   "metadata": {},
   "outputs": [
    {
     "name": "stdout",
     "output_type": "stream",
     "text": [
      "x_train dtype: float32\n",
      "y_train dtype: uint8\n",
      "x_test dtype: float32\n",
      "y_test dtype: uint8\n",
      "60000 train samples\n",
      "10000 test samples\n"
     ]
    }
   ],
   "source": [
    "# transform data type\n",
    "x_train = x_train.astype('float32')\n",
    "x_test = x_test.astype('float32')\n",
    "x_train /= 255\n",
    "x_test /= 255\n",
    "print('x_train dtype:', x_train.dtype)\n",
    "print('y_train dtype:', y_train.dtype)\n",
    "print('x_test dtype:', x_test.dtype)\n",
    "print('y_test dtype:', y_test.dtype)\n",
    "print(x_train.shape[0], 'train samples')\n",
    "print(x_test.shape[0], 'test samples')"
   ]
  },
  {
   "cell_type": "code",
   "execution_count": 6,
   "metadata": {},
   "outputs": [
    {
     "name": "stdout",
     "output_type": "stream",
     "text": [
      "x_train shape: (60000, 28, 28, 1)\n",
      "y_train shape: (60000, 10)\n"
     ]
    }
   ],
   "source": [
    "# convert class vectors to binary class matrices\n",
    "y_train = keras.utils.to_categorical(y_train, num_classes)\n",
    "y_test = keras.utils.to_categorical(y_test, num_classes)\n",
    "print('x_train shape:', x_train.shape)\n",
    "print('y_train shape:', y_train.shape)"
   ]
  },
  {
   "cell_type": "code",
   "execution_count": 7,
   "metadata": {},
   "outputs": [
    {
     "name": "stdout",
     "output_type": "stream",
     "text": [
      "_________________________________________________________________\n",
      "Layer (type)                 Output Shape              Param #   \n",
      "=================================================================\n",
      "Conv2D_layer_1 (Conv2D)      (None, 24, 24, 16)        416       \n",
      "_________________________________________________________________\n",
      "MaxP_layer_1 (MaxPooling2D)  (None, 12, 12, 16)        0         \n",
      "_________________________________________________________________\n",
      "Conv2D_layer_2 (Conv2D)      (None, 10, 10, 32)        4640      \n",
      "_________________________________________________________________\n",
      "MaxP_layer_2 (MaxPooling2D)  (None, 5, 5, 32)          0         \n",
      "_________________________________________________________________\n",
      "Drop_layer_1 (Dropout)       (None, 5, 5, 32)          0         \n",
      "_________________________________________________________________\n",
      "flatten_1 (Flatten)          (None, 800)               0         \n",
      "_________________________________________________________________\n",
      "Dense_layer_1 (Dense)        (None, 64)                51264     \n",
      "_________________________________________________________________\n",
      "Dense_layer_2 (Dense)        (None, 128)               8320      \n",
      "_________________________________________________________________\n",
      "Drop_layer_2 (Dropout)       (None, 128)               0         \n",
      "_________________________________________________________________\n",
      "output_layer_1 (Dense)       (None, 10)                1290      \n",
      "=================================================================\n",
      "Total params: 65,930\n",
      "Trainable params: 65,930\n",
      "Non-trainable params: 0\n",
      "_________________________________________________________________\n",
      "None\n"
     ]
    }
   ],
   "source": [
    "# build CNN maxpool model using Keras sequential model API\n",
    "model_1 = Sequential()\n",
    "\n",
    "# type your code of model here\n",
    "model_1.add(Conv2D(16, (5,5), activation=\"relu\", input_shape=input_shape, name='Conv2D_layer_1'))\n",
    "\n",
    "model_1.add(MaxPooling2D(pool_size=(2,2), name='MaxP_layer_1'))\n",
    "\n",
    "model_1.add(Conv2D(32, (3,3), activation=\"relu\", name='Conv2D_layer_2'))\n",
    "\n",
    "model_1.add(MaxPooling2D(pool_size=(2,2), name='MaxP_layer_2'))\n",
    "\n",
    "model_1.add(Dropout(0.25, name='Drop_layer_1'))\n",
    "\n",
    "model_1.add(Flatten())\n",
    "model_1.add(Dense(64, activation=\"relu\", name='Dense_layer_1'))\n",
    "model_1.add(Dense(128, activation=\"relu\", name='Dense_layer_2'))\n",
    "model_1.add(Dropout(0.5, name='Drop_layer_2'))\n",
    "model_1.add(Dense(10, activation=\"softmax\", name='output_layer_1'))\n",
    "\n",
    "model_1.compile(loss=keras.losses.categorical_crossentropy,\n",
    "              optimizer=keras.optimizers.Adadelta(),\n",
    "              metrics=['accuracy'])\n",
    "\n",
    "print(model_1.summary())"
   ]
  },
  {
   "cell_type": "code",
   "execution_count": 8,
   "metadata": {},
   "outputs": [
    {
     "name": "stdout",
     "output_type": "stream",
     "text": [
      "Train on 60000 samples, validate on 10000 samples\n",
      "Epoch 1/20\n",
      "60000/60000 [==============================] - 18s 292us/step - loss: 0.3539 - acc: 0.8863 - val_loss: 0.0617 - val_acc: 0.9810\n",
      "Epoch 2/20\n",
      "60000/60000 [==============================] - 17s 282us/step - loss: 0.0986 - acc: 0.9710 - val_loss: 0.0400 - val_acc: 0.9867\n",
      "Epoch 3/20\n",
      "60000/60000 [==============================] - 18s 294us/step - loss: 0.0723 - acc: 0.9792 - val_loss: 0.0350 - val_acc: 0.9884\n",
      "Epoch 4/20\n",
      "60000/60000 [==============================] - 17s 278us/step - loss: 0.0602 - acc: 0.9829 - val_loss: 0.0343 - val_acc: 0.9887\n",
      "Epoch 5/20\n",
      "60000/60000 [==============================] - 17s 291us/step - loss: 0.0532 - acc: 0.9850 - val_loss: 0.0270 - val_acc: 0.9905\n",
      "Epoch 6/20\n",
      "60000/60000 [==============================] - 18s 303us/step - loss: 0.0456 - acc: 0.9870 - val_loss: 0.0299 - val_acc: 0.9902\n",
      "Epoch 7/20\n",
      "60000/60000 [==============================] - 17s 275us/step - loss: 0.0421 - acc: 0.9880 - val_loss: 0.0292 - val_acc: 0.9915\n",
      "Epoch 8/20\n",
      "60000/60000 [==============================] - 16s 274us/step - loss: 0.0388 - acc: 0.9888 - val_loss: 0.0291 - val_acc: 0.9909\n",
      "Epoch 9/20\n",
      "60000/60000 [==============================] - 16s 272us/step - loss: 0.0356 - acc: 0.9895 - val_loss: 0.0243 - val_acc: 0.9924\n",
      "Epoch 10/20\n",
      "60000/60000 [==============================] - 18s 294us/step - loss: 0.0332 - acc: 0.9905 - val_loss: 0.0211 - val_acc: 0.9932\n",
      "Epoch 11/20\n",
      "60000/60000 [==============================] - 18s 292us/step - loss: 0.0303 - acc: 0.9913 - val_loss: 0.0214 - val_acc: 0.9925\n",
      "Epoch 12/20\n",
      "60000/60000 [==============================] - 17s 289us/step - loss: 0.0305 - acc: 0.9913 - val_loss: 0.0217 - val_acc: 0.9926\n",
      "Epoch 13/20\n",
      "60000/60000 [==============================] - 17s 280us/step - loss: 0.0280 - acc: 0.9915 - val_loss: 0.0237 - val_acc: 0.9924\n",
      "Epoch 14/20\n",
      "60000/60000 [==============================] - 18s 307us/step - loss: 0.0275 - acc: 0.9920 - val_loss: 0.0220 - val_acc: 0.9931\n",
      "Epoch 15/20\n",
      "60000/60000 [==============================] - 18s 293us/step - loss: 0.0255 - acc: 0.9922 - val_loss: 0.0222 - val_acc: 0.9931\n",
      "Epoch 16/20\n",
      "60000/60000 [==============================] - 17s 285us/step - loss: 0.0238 - acc: 0.9930 - val_loss: 0.0234 - val_acc: 0.9930\n",
      "Epoch 17/20\n",
      "60000/60000 [==============================] - 17s 281us/step - loss: 0.0223 - acc: 0.9931 - val_loss: 0.0222 - val_acc: 0.9930\n",
      "Epoch 18/20\n",
      "60000/60000 [==============================] - 18s 304us/step - loss: 0.0220 - acc: 0.9937 - val_loss: 0.0232 - val_acc: 0.9933\n",
      "Epoch 19/20\n",
      "60000/60000 [==============================] - 18s 297us/step - loss: 0.0209 - acc: 0.9937 - val_loss: 0.0219 - val_acc: 0.9934\n",
      "Epoch 20/20\n",
      "60000/60000 [==============================] - 18s 303us/step - loss: 0.0199 - acc: 0.9939 - val_loss: 0.0229 - val_acc: 0.9933\n"
     ]
    }
   ],
   "source": [
    "# train mode using mini-batch\n",
    "train_history = model_1.fit(x_train, y_train,\n",
    "          batch_size=batch_size,\n",
    "          epochs=epochs,\n",
    "          verbose=1,\n",
    "          validation_data=(x_test, y_test))"
   ]
  },
  {
   "cell_type": "code",
   "execution_count": 9,
   "metadata": {},
   "outputs": [
    {
     "name": "stdout",
     "output_type": "stream",
     "text": [
      "Train loss: 0.006477588785060198\n",
      "Train accuracy: 0.9979833333333333\n"
     ]
    }
   ],
   "source": [
    "# test the trained model using training data\n",
    "score = model_1.evaluate(x_train, y_train, verbose=0)\n",
    "print('Train loss:', score[0])\n",
    "print('Train accuracy:', score[1])"
   ]
  },
  {
   "cell_type": "code",
   "execution_count": 10,
   "metadata": {},
   "outputs": [
    {
     "name": "stdout",
     "output_type": "stream",
     "text": [
      "Test loss: 0.022852646183042724\n",
      "Test accuracy: 0.9933\n"
     ]
    }
   ],
   "source": [
    "# test the trained model using testing data\n",
    "score = model_1.evaluate(x_test, y_test, verbose=0)\n",
    "print('Test loss:', score[0])\n",
    "print('Test accuracy:', score[1])"
   ]
  },
  {
   "cell_type": "code",
   "execution_count": 11,
   "metadata": {},
   "outputs": [
    {
     "data": {
      "text/plain": [
       "<matplotlib.figure.Figure at 0x2b6891728d0>"
      ]
     },
     "metadata": {},
     "output_type": "display_data"
    },
    {
     "data": {
      "text/plain": [
       "<matplotlib.figure.Figure at 0x2b691bad780>"
      ]
     },
     "metadata": {},
     "output_type": "display_data"
    }
   ],
   "source": []
  },
  {
   "cell_type": "code",
   "execution_count": 12,
   "metadata": {},
   "outputs": [
    {
     "ename": "NameError",
     "evalue": "name 'y_Test' is not defined",
     "output_type": "error",
     "traceback": [
      "\u001b[1;31m---------------------------------------------------------------------------\u001b[0m",
      "\u001b[1;31mNameError\u001b[0m                                 Traceback (most recent call last)",
      "\u001b[1;32m<ipython-input-12-79a17916e975>\u001b[0m in \u001b[0;36m<module>\u001b[1;34m()\u001b[0m\n\u001b[0;32m      1\u001b[0m \u001b[1;32mimport\u001b[0m \u001b[0mpandas\u001b[0m \u001b[1;32mas\u001b[0m \u001b[0mpd\u001b[0m\u001b[1;33m\u001b[0m\u001b[0m\n\u001b[1;32m----> 2\u001b[1;33m pd.crosstab(y_Test,prediction,\n\u001b[0m\u001b[0;32m      3\u001b[0m             rownames=['label'],colnames=['predict'])\n",
      "\u001b[1;31mNameError\u001b[0m: name 'y_Test' is not defined"
     ]
    }
   ],
   "source": []
  },
  {
   "cell_type": "code",
   "execution_count": null,
   "metadata": {},
   "outputs": [],
   "source": []
  }
 ],
 "metadata": {
  "kernelspec": {
   "display_name": "Python 3",
   "language": "python",
   "name": "python3"
  },
  "language_info": {
   "codemirror_mode": {
    "name": "ipython",
    "version": 3
   },
   "file_extension": ".py",
   "mimetype": "text/x-python",
   "name": "python",
   "nbconvert_exporter": "python",
   "pygments_lexer": "ipython3",
   "version": "3.6.4"
  }
 },
 "nbformat": 4,
 "nbformat_minor": 2
}
